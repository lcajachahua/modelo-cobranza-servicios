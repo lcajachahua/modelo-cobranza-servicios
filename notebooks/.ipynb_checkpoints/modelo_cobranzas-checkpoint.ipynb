{
 "cells": [
  {
   "cell_type": "markdown",
   "metadata": {
    "id": "DOGa617qS5Ly"
   },
   "source": [
    "<header style=\"padding:10px;background:#f9f9f9;border-top:3px solid #00b2b1\"><img id=\"Teradata-logo\" src=\"https://www.teradata.com/Teradata/Images/Rebrand/Teradata_logo-two_color.png\" alt=\"Teradata\" width=\"220\" align=\"right\" />\n",
    "  \n",
    "# Modelo de Cobranzas (In-Database)\n",
    "\n",
    "El objetivo de este modelo es identificar la probabilidad de incumplir con el pago de cuotas pendientes\n",
    "    \n",
    "![Slide](images/Diapositiva3.PNG)\n",
    "\n",
    "![Slide](images/Diapositiva4.PNG)\n",
    "\n",
    "![Slide](images/Diapositiva8.PNG)\n",
    "\n",
    "![Slide](images/Diapositiva5.PNG)\n",
    "\n",
    "![Slide](images/Diapositiva6.PNG)\n",
    "    \n",
    "![Slide](images/Diapositiva7.PNG)\n",
    "    \n"
   ]
  },
  {
   "cell_type": "markdown",
   "metadata": {
    "id": "6pJ7A_03QMSJ"
   },
   "source": [
    "## **Instalar las librerías**"
   ]
  },
  {
   "cell_type": "code",
   "execution_count": null,
   "metadata": {
    "id": "sUu4EsJ0b9y2"
   },
   "outputs": [],
   "source": [
    "#!pip install teradataml==17.20.0.4 kds==0.1.3 lightgbm==4.0.0 nyoka==4.3.0"
   ]
  },
  {
   "cell_type": "markdown",
   "metadata": {
    "id": "2uKqxuVvS5MC"
   },
   "source": [
    "## **Carga de Modulos**"
   ]
  },
  {
   "cell_type": "code",
   "execution_count": null,
   "metadata": {},
   "outputs": [],
   "source": [
    "import pandas as pd\n",
    "import numpy as np\n",
    "import getpass as gp\n",
    "import plotly.express as px\n",
    "from sklearn.metrics import roc_auc_score, classification_report, confusion_matrix, accuracy_score\n",
    "from sklearn.model_selection import train_test_split\n",
    "import matplotlib.pyplot as plt\n",
    "from matplotlib import style\n",
    "import seaborn as sns\n",
    "import kds\n",
    "\n",
    "from teradataml import *\n",
    "from teradataml.analytics.valib import *\n",
    "configure.val_install_location = \"val\""
   ]
  },
  {
   "cell_type": "code",
   "execution_count": null,
   "metadata": {},
   "outputs": [],
   "source": [
    "eng = create_context(host = 'host.docker.internal', username='demo_user', password = password)\n",
    "print(eng)"
   ]
  },
  {
   "cell_type": "markdown",
   "metadata": {
    "id": "UnPnopgUS5MN"
   },
   "source": [
    "![Slide](images/Diapositiva10.PNG)\n",
    "\n",
    "## **Lectura Inicial de base de datos**"
   ]
  },
  {
   "cell_type": "code",
   "execution_count": null,
   "metadata": {},
   "outputs": [],
   "source": [
    "# Leemos la data de desarrollo de modelos\n",
    "tdf = DataFrame(in_schema(\"demo_user\",\"matriz_modelo\"))"
   ]
  },
  {
   "cell_type": "code",
   "execution_count": null,
   "metadata": {},
   "outputs": [],
   "source": [
    "# Primeros Registros\n",
    "tdf.head(10)"
   ]
  },
  {
   "cell_type": "code",
   "execution_count": null,
   "metadata": {},
   "outputs": [],
   "source": [
    "# Vemos la dimensionalidad\n",
    "tdf.shape"
   ]
  },
  {
   "cell_type": "code",
   "execution_count": null,
   "metadata": {},
   "outputs": [],
   "source": [
    "# Demostrando que no es head() de Python, sino es una funcion de la librería TeradataML con el mismo nombre\n",
    "tdf.head(5).show_query()"
   ]
  },
  {
   "cell_type": "markdown",
   "metadata": {
    "id": "z-xwHgOuS5M8"
   },
   "source": [
    "![Slide](images/Diapositiva6.PNG)\n",
    "\n",
    "## **Exploración de los datos**"
   ]
  },
  {
   "cell_type": "code",
   "execution_count": null,
   "metadata": {},
   "outputs": [],
   "source": [
    "# Estadísticas Descriptivas por Columna\n",
    "valS = valib.Statistics(data=tdf, columns=\"allnumeric\")\n",
    "valS.result.head(58).sort('xcol')"
   ]
  },
  {
   "cell_type": "code",
   "execution_count": null,
   "metadata": {},
   "outputs": [],
   "source": [
    "# Agregando show_query() al final, podemos ver que efectivamente, los códigos se traducen automáticamente a lenguaje SQL antes de ejecutarse\n",
    "valS.result.show_query()"
   ]
  },
  {
   "cell_type": "markdown",
   "metadata": {
    "id": "QQ4an-XMc2yg"
   },
   "source": [
    "### Análisis Univariado"
   ]
  },
  {
   "cell_type": "code",
   "execution_count": null,
   "metadata": {
    "id": "7-JORHWZQMSQ"
   },
   "outputs": [],
   "source": [
    "## Para variables Cualitativas\n",
    "def plot_cat(feature):\n",
    "    catfreq = valib.Frequency(data=tdf, columns=feature)\n",
    "    df=catfreq.result.to_pandas().reset_index()\n",
    "    fig = px.bar(df, x='xval', y='xcnt')\n",
    "    fig.update_xaxes(tickangle = 0, title=feature)\n",
    "    fig.update_yaxes(title=\"Frecuencia\")  \n",
    "    fig.show()"
   ]
  },
  {
   "cell_type": "code",
   "execution_count": null,
   "metadata": {},
   "outputs": [],
   "source": [
    "## Distribución de la Variable Target (Morosidad=1, Pago Puntual=0)\n",
    "plot_cat('TAR')"
   ]
  },
  {
   "cell_type": "code",
   "execution_count": null,
   "metadata": {
    "id": "XWCHbH4bQMSQ"
   },
   "outputs": [],
   "source": [
    "## Calculando la proporción del Target\n",
    "tResp = valib.Frequency(data=tdf, columns=\"TAR\")\n",
    "tResp.result"
   ]
  },
  {
   "cell_type": "code",
   "execution_count": null,
   "metadata": {
    "id": "d3suGh0zQMSQ"
   },
   "outputs": [],
   "source": [
    "## Graficando otras variables categóricas\n",
    "plot_cat('SEX')"
   ]
  },
  {
   "cell_type": "code",
   "execution_count": null,
   "metadata": {
    "id": "IeKasgRPQMSR"
   },
   "outputs": [],
   "source": [
    "plot_cat('MARRIAGE')"
   ]
  },
  {
   "cell_type": "code",
   "execution_count": null,
   "metadata": {
    "id": "Iwj7F8MeQMSR"
   },
   "outputs": [],
   "source": [
    "## Para variables cuantitativas\n",
    "def plot_num(feature):\n",
    "    df=tdf.filter(items=['PARTY_ID', feature]).to_pandas()\n",
    "    fig,axes=plt.subplots(1,2)\n",
    "    sns.boxplot(data=df,x=feature,ax=axes[0])\n",
    "    sns.distplot(a=df[feature],ax=axes[1],color='#ff4125')\n",
    "    fig.set_size_inches(18,6)"
   ]
  },
  {
   "cell_type": "code",
   "execution_count": null,
   "metadata": {
    "id": "o1_9gtiCQMSS"
   },
   "outputs": [],
   "source": [
    "## Analizando la distribución de algunas variables numéricas\n",
    "plot_num('PAY_1')"
   ]
  },
  {
   "cell_type": "code",
   "execution_count": null,
   "metadata": {
    "id": "1GmZYLNEQMSS"
   },
   "outputs": [],
   "source": [
    "plot_num('BILL_AMT1')"
   ]
  },
  {
   "cell_type": "markdown",
   "metadata": {},
   "source": [
    "### Matriz de correlaciones"
   ]
  },
  {
   "cell_type": "code",
   "execution_count": null,
   "metadata": {},
   "outputs": [],
   "source": [
    "## Función de VAL para el cálculo In-Database de la matriz de correlaciones\n",
    "Cor_Mat = valib.Matrix(data=tdf, columns=\"allnumeric\", exclude_columns=[\"PARTY_ID\",\"SEX\",\"EDUCATION\",\"MARRIAGE\"], type=\"COR\")\n",
    "## Imprimir los resultados\n",
    "Cor_Mat.result.sort('rownum').head(33)"
   ]
  },
  {
   "cell_type": "code",
   "execution_count": null,
   "metadata": {},
   "outputs": [],
   "source": [
    "## Graficando la Matriz de Correlaciones - Más claro significa correlación más alta\n",
    "sns.set(rc = {'figure.figsize':(16,12)})\n",
    "sns.heatmap(Cor_Mat.result.to_pandas().sort_values(['rownum']))"
   ]
  },
  {
   "cell_type": "markdown",
   "metadata": {
    "id": "aHTsaQmMS5Nb"
   },
   "source": [
    "Observamos que existen correlaciones significativas entre los grupos de variables históricas"
   ]
  },
  {
   "cell_type": "markdown",
   "metadata": {
    "id": "rjUqWwdNS5P2"
   },
   "source": [
    "![Slide](images/Diapositiva9.PNG)\n",
    "\n",
    "## **Modelo de Regresión Logística In-Database**"
   ]
  },
  {
   "cell_type": "markdown",
   "metadata": {
    "id": "YN5ZjryQS5P4"
   },
   "source": [
    "### Particion Muestral"
   ]
  },
  {
   "cell_type": "markdown",
   "metadata": {
    "id": "HgZ_VZxOx7KT"
   },
   "source": [
    "Seleccionamos las variables más relevantes y dividimos en muestras 70% Train / 30% Test"
   ]
  },
  {
   "cell_type": "code",
   "execution_count": null,
   "metadata": {
    "id": "_Z07-KbmQMSd"
   },
   "outputs": [],
   "source": [
    "## Seleccionamos variables más relevantes y generamos una columna que divide la tabla en muestras de entrenamiento y test\n",
    "tbl_sample = tdf[['PARTY_ID','SEX','PAY_1','AGE','INCOME','CV_LPAY_TOT','CV_LBILL_TOT','CANT_PAY_MAY0',\n",
    "                  'BILL_AMT1','LOG_BILL_AMT1','AVG_LPAY_TOT','STD_PAY_TOT','TAR']].sample(frac = [0.7, 0.3])"
   ]
  },
  {
   "cell_type": "code",
   "execution_count": null,
   "metadata": {},
   "outputs": [],
   "source": [
    "## Almacenando la Muestra de Entrenamiento en la BD y generando la referencia con un DF de TeradataML\n",
    "copy_to_sql(tbl_sample[tbl_sample.sampleid == \"1\"].drop(\"sampleid\", axis = 1), schema_name=\"demo_user\", table_name=\"TrainModel\", if_exists=\"replace\")\n",
    "tbl_train = DataFrame(in_schema(\"demo_user\",\"TrainModel\"))\n",
    "tbl_train.shape"
   ]
  },
  {
   "cell_type": "code",
   "execution_count": null,
   "metadata": {},
   "outputs": [],
   "source": [
    "## Almacenando la Muestra de Test en la BD y generando la referencia con un DF de TeradataML\n",
    "copy_to_sql(tbl_sample[tbl_sample.sampleid == \"2\"].drop(\"sampleid\", axis = 1), schema_name=\"demo_user\", table_name=\"TestModel\", if_exists=\"replace\")\n",
    "tbl_test = DataFrame(in_schema(\"demo_user\",\"TestModel\"))\n",
    "tbl_test.shape"
   ]
  },
  {
   "cell_type": "code",
   "execution_count": null,
   "metadata": {},
   "outputs": [],
   "source": [
    "## Verificando que el DF hace referencia a la tabla creada en la BD\n",
    "tbl_test.show_query()"
   ]
  },
  {
   "cell_type": "markdown",
   "metadata": {},
   "source": [
    "<font color='red'/>\n",
    "\n",
    "### Entrenamiento del Modelo In-Database utilizando VAL"
   ]
  },
  {
   "cell_type": "code",
   "execution_count": null,
   "metadata": {},
   "outputs": [],
   "source": [
    "## Función de VAL que entrena un Modelo de Regresión Logística\n",
    "tdModel = valib.LogReg(data=tbl_train,\n",
    "                       columns=\"all\",\n",
    "                       exclude_columns=[\"PARTY_ID\"],\n",
    "                       stepwise='True',\n",
    "                       response_column=\"TAR\")\n",
    "tdModel.model.to_pandas().sort_values(['Column Name'])"
   ]
  },
  {
   "cell_type": "code",
   "execution_count": null,
   "metadata": {},
   "outputs": [],
   "source": [
    "## Métricas estadísticas del Modelo\n",
    "tdModel.statistical_measures.to_pandas()"
   ]
  },
  {
   "cell_type": "markdown",
   "metadata": {},
   "source": [
    "### Validación del Modelo"
   ]
  },
  {
   "cell_type": "code",
   "execution_count": null,
   "metadata": {},
   "outputs": [],
   "source": [
    "## Usando la muestra de Test se pueden generar los estadísticos de validación\n",
    "obj = valib.LogRegEvaluator(data=tbl_test, model=tdModel.model, index_columns='PARTY_ID')"
   ]
  },
  {
   "cell_type": "code",
   "execution_count": null,
   "metadata": {},
   "outputs": [],
   "source": [
    "from IPython.core.display import display, HTML\n",
    "cursor=con.raw_connection().cursor()\n",
    "parms = 'database=' + obj.result._table_name.split('.')[0] + ';tablename=' + obj.result._table_name.split('.')[1] + ';analysistype=logistic'\n",
    "cursor.callproc(\"val.td_analyze\", ['report',parms])\n",
    "cursor.nextset()\n",
    "z=cursor.fetchall()\n",
    "# Loop in case of group by generating multiple reports\n",
    "for i in range(len(z)):\n",
    "    display(HTML(z[i][1]))"
   ]
  },
  {
   "cell_type": "markdown",
   "metadata": {},
   "source": [
    "<font color='red'/>\n",
    "\n",
    "### Scoring del Modelo In-Database utilizando VAL"
   ]
  },
  {
   "cell_type": "code",
   "execution_count": null,
   "metadata": {},
   "outputs": [],
   "source": [
    "## Función de Scoring de la Regresión Logística en VAL\n",
    "Logit_Model_Score = valib.LogRegPredict(data=tdf, \n",
    "                                        model=tdModel.model, \n",
    "                                        index_columns=\"PARTY_ID\",\n",
    "                                        estimate_column=\"PRED_TAR\",\n",
    "                                        prob_column=\"Probability\")\n",
    " \n",
    "## Mostramos los primeros 10 registros de la tabla \n",
    "Logit_Model_Score.result.head(10)"
   ]
  },
  {
   "cell_type": "code",
   "execution_count": null,
   "metadata": {},
   "outputs": [],
   "source": [
    "## Tabla temporal donde se almacenan los resultados del modelo\n",
    "tdModel.model.show_query()"
   ]
  },
  {
   "cell_type": "code",
   "execution_count": null,
   "metadata": {},
   "outputs": [],
   "source": [
    "## Almacenando el resultado en una Tabla permanente de la BD\n",
    "copy_to_sql(tdModel.model, schema_name=\"demo_user\", table_name=\"ScoreLogRes\", if_exists=\"replace\")"
   ]
  },
  {
   "cell_type": "code",
   "execution_count": null,
   "metadata": {},
   "outputs": [],
   "source": [
    "## Combinando la información real con las predicciones para calcular las métricas de performance\n",
    "vec_con = Logit_Model_Score.result.join(other = tdf.filter(items = ['PARTY_ID', 'TAR']), how = \"inner\", on = [\"PARTY_ID\"],\n",
    "                             lprefix = \"predic\", rprefix = \"orig\")\n",
    "\n",
    "vec_con.head(5)"
   ]
  },
  {
   "cell_type": "code",
   "execution_count": null,
   "metadata": {},
   "outputs": [],
   "source": [
    "# Métricas de Evaluación\n",
    "vec = vec_con.to_pandas()\n",
    "y_test = vec.TAR\n",
    "y_pred = vec.PRED_TAR\n",
    "y_probs = vec.Probability\n",
    "print('Area bajo la Curva ROC: ',roc_auc_score(y_test, y_probs))\n",
    "print('Matriz de Confusión: ',confusion_matrix(y_test,y_pred))\n",
    "print('Métricas de Clasificación: ', classification_report(y_test,y_pred))"
   ]
  },
  {
   "cell_type": "code",
   "execution_count": null,
   "metadata": {},
   "outputs": [],
   "source": [
    "# Reporte de Deciles y Gráficos\n",
    "kds.metrics.report(y_test, y_probs, plot_style='ggplot')"
   ]
  },
  {
   "cell_type": "markdown",
   "metadata": {
    "id": "AOQlbpMJlQpn"
   },
   "source": [
    "![Slide](images/Diapositiva11.PNG)\n",
    "\n",
    "![Slide](images/Diapositiva12.PNG)\n",
    "\n",
    "## **Entrenamiento de un modelo XGBoost 100% Python**"
   ]
  },
  {
   "cell_type": "code",
   "execution_count": null,
   "metadata": {},
   "outputs": [],
   "source": [
    "from sklearn2pmml.pipeline import PMMLPipeline\n",
    "from sklearn2pmml import sklearn2pmml\n",
    "from xgboost import XGBClassifier"
   ]
  },
  {
   "cell_type": "code",
   "execution_count": null,
   "metadata": {},
   "outputs": [],
   "source": [
    "## Movemos los datos a Python con to_pandas()\n",
    "pdf = tdf[['PARTY_ID','SEX','PAY_1','AGE','INCOME','CV_LPAY_TOT','CV_LBILL_TOT',\n",
    "           'CANT_PAY_MAY0','BILL_AMT1','LOG_BILL_AMT1','AVG_LPAY_TOT','STD_PAY_TOT','TAR']].to_pandas(all_rows=True)\n",
    "pdf.head(5)"
   ]
  },
  {
   "cell_type": "code",
   "execution_count": null,
   "metadata": {},
   "outputs": [],
   "source": [
    "pdf.shape"
   ]
  },
  {
   "cell_type": "code",
   "execution_count": null,
   "metadata": {},
   "outputs": [],
   "source": [
    "X = pdf.drop([\"TAR\"],axis=1)\n",
    "y = pdf.TAR"
   ]
  },
  {
   "cell_type": "code",
   "execution_count": null,
   "metadata": {},
   "outputs": [],
   "source": [
    "## Creando las muestras de Entrenamiento y Test\n",
    "X_train, X_test, y_train, y_test = train_test_split(X, y,\n",
    "                                                   test_size=0.3,\n",
    "                                                   random_state=12345) "
   ]
  },
  {
   "cell_type": "markdown",
   "metadata": {},
   "source": [
    "<font color='red'/>\n",
    "\n",
    "### Entrenando el Modelo y Exportando como PMML"
   ]
  },
  {
   "cell_type": "code",
   "execution_count": null,
   "metadata": {},
   "outputs": [],
   "source": [
    "## Se crea el Pipeline para Exportar el modelo en formato PMML\n",
    "pipeline = PMMLPipeline([(\"classifier\", XGBClassifier(eval_metric='aucpr', use_label_encoder=False, n_estimators=150, max_depth=5))])\n",
    "pipeline.fit(X_train, y_train)\n",
    "sklearn2pmml(pipeline, \"ModelXGBPy.pmml\", with_repr = True)"
   ]
  },
  {
   "cell_type": "code",
   "execution_count": null,
   "metadata": {},
   "outputs": [],
   "source": [
    "# Métricas de Evaluación\n",
    "y_pred = pipeline.predict(X)\n",
    "y_probs = pipeline.predict_proba(X)[:, 1]\n",
    "print('Area bajo la Curva ROC: ',roc_auc_score(y, y_probs))\n",
    "print('Matriz de Confusión: ',confusion_matrix(y,y_pred))\n",
    "print('Métricas de Clasificación: ', classification_report(y,y_pred))"
   ]
  },
  {
   "cell_type": "code",
   "execution_count": null,
   "metadata": {},
   "outputs": [],
   "source": [
    "# Reporte de Deciles y Gráficos\n",
    "kds.metrics.report(y, y_probs, plot_style='ggplot')"
   ]
  },
  {
   "cell_type": "markdown",
   "metadata": {},
   "source": [
    "## **Entrenamiento de un modelo LightGBM 100% Python**"
   ]
  },
  {
   "cell_type": "code",
   "execution_count": null,
   "metadata": {},
   "outputs": [],
   "source": [
    "from lightgbm import LGBMClassifier\n",
    "from sklearn.pipeline import Pipeline\n",
    "from nyoka import lgb_to_pmml\n",
    "from sklearn.model_selection import GridSearchCV "
   ]
  },
  {
   "cell_type": "code",
   "execution_count": null,
   "metadata": {},
   "outputs": [],
   "source": [
    "## Se crea el Pipeline del modelo\n",
    "pipeline_obj = Pipeline([('lgbmc',LGBMClassifier(objective = \"binary\", verbosity=-1, learning_rate=0.1, max_depth=6, num_leaves=50))])\n",
    "pipeline_obj.fit(X_train, y_train)"
   ]
  },
  {
   "cell_type": "code",
   "execution_count": null,
   "metadata": {},
   "outputs": [],
   "source": [
    "## Se exporta el modelo en formato PMML\n",
    "lgb_to_pmml(pipeline_obj,X_train.columns,\"TAR\",\"ModelLGBPy.pmml\")"
   ]
  },
  {
   "cell_type": "code",
   "execution_count": null,
   "metadata": {},
   "outputs": [],
   "source": [
    "# Métricas de Evaluación\n",
    "y_pred = pipeline_obj.predict(X)\n",
    "y_probs = pipeline_obj.predict_proba(X)[:, 1]\n",
    "print('Area bajo la Curva ROC: ',roc_auc_score(y, y_probs))\n",
    "print('Matriz de Confusión: ',confusion_matrix(y,y_pred))\n",
    "print('Métricas de Clasificación: ', classification_report(y,y_pred))"
   ]
  },
  {
   "cell_type": "code",
   "execution_count": null,
   "metadata": {},
   "outputs": [],
   "source": [
    "# Reporte de Deciles y Gráficos\n",
    "kds.metrics.report(y, y_probs, plot_style='ggplot')"
   ]
  },
  {
   "cell_type": "markdown",
   "metadata": {},
   "source": [
    "Comparando los resultados, el mejor modelo es XGBoost, por eso será el que se lleve al proceso de Scoring"
   ]
  },
  {
   "cell_type": "markdown",
   "metadata": {
    "id": "sRnJ62v2QMSo"
   },
   "source": [
    "<font color='red'/>\n",
    "\n",
    "## **Scoring del Modelo XGB entrenado en Python utilizando BYOM en la BD**"
   ]
  },
  {
   "cell_type": "code",
   "execution_count": null,
   "metadata": {
    "id": "yihrR0b6S5Sb"
   },
   "outputs": [],
   "source": [
    "con.execute(\"CREATE SET TABLE demo_user.pmml_models (model_id VARCHAR(40) \\\n",
    "            CHARACTER SET LATIN NOT CASESPECIFIC, model BLOB(2097088000)) \\\n",
    "            PRIMARY INDEX ( model_id );\")"
   ]
  },
  {
   "cell_type": "code",
   "execution_count": null,
   "metadata": {},
   "outputs": [],
   "source": [
    "model_bytes = open(\"ModelXGBPy.pmml\", \"rb\").read()\n",
    "con.execute(\"insert into demo_user.pmml_models  (model_id, model) values(?,?)\", 'cobr_xgb_model', model_bytes)"
   ]
  },
  {
   "cell_type": "code",
   "execution_count": null,
   "metadata": {},
   "outputs": [],
   "source": [
    "pd.read_sql(\"select * from demo_user.pmml_models\", con)"
   ]
  },
  {
   "cell_type": "code",
   "execution_count": null,
   "metadata": {
    "id": "UHCvxchzS5Ss"
   },
   "outputs": [],
   "source": [
    "con.execute(\"CREATE TABLE demo_user.ScoreResult AS ( \\\n",
    "SELECT * FROM mldb.PMMLPredict( \\\n",
    "    ON (SELECT * FROM demo_user.matriz_score) \\\n",
    "    ON (select * from demo_user.pmml_models where model_id='cobr_xgb_model') DIMENSION \\\n",
    "    USING \\\n",
    "        Accumulate('PARTY_ID') \\\n",
    "        ModelOutputFields ('probability(0)', 'probability(1)') \\\n",
    ") AS dt \\\n",
    ") WITH DATA;\")"
   ]
  },
  {
   "cell_type": "code",
   "execution_count": null,
   "metadata": {
    "id": "_IGiDz8kNHmP"
   },
   "outputs": [],
   "source": [
    "con.execute('UPDATE demo_user.ScoreResult SET prediction=0 WHERE \"probability(0)\" GT \"probability(1)\";')"
   ]
  },
  {
   "cell_type": "code",
   "execution_count": null,
   "metadata": {
    "id": "d1MJJucmQMSp"
   },
   "outputs": [],
   "source": [
    "con.execute('UPDATE demo_user.ScoreResult SET prediction=1 WHERE \"probability(1)\" GT \"probability(0)\";')"
   ]
  },
  {
   "cell_type": "code",
   "execution_count": null,
   "metadata": {
    "id": "L5kcXercS5S0"
   },
   "outputs": [],
   "source": [
    "result_df = DataFrame.from_query(\"select top 10 * FROM demo_user.ScoreResult;\")\n",
    "result_df.head()"
   ]
  },
  {
   "cell_type": "markdown",
   "metadata": {},
   "source": [
    "## **Finalizando la Demo**"
   ]
  },
  {
   "cell_type": "code",
   "execution_count": null,
   "metadata": {},
   "outputs": [],
   "source": [
    "con.execute(\"DROP TABLE demo_user.TrainModel;\")"
   ]
  },
  {
   "cell_type": "code",
   "execution_count": null,
   "metadata": {},
   "outputs": [],
   "source": [
    "con.execute(\"DROP TABLE demo_user.TestModel;\")"
   ]
  },
  {
   "cell_type": "code",
   "execution_count": null,
   "metadata": {},
   "outputs": [],
   "source": [
    "con.execute(\"DROP TABLE demo_user.pmml_models;\")"
   ]
  },
  {
   "cell_type": "code",
   "execution_count": null,
   "metadata": {},
   "outputs": [],
   "source": [
    "con.execute(\"DROP TABLE demo_user.ScoreResult;\")"
   ]
  },
  {
   "cell_type": "code",
   "execution_count": null,
   "metadata": {
    "id": "mgDCnX0cN2TU"
   },
   "outputs": [],
   "source": [
    "## Finalizando el Notebook y Limpiando el ambiente \n",
    "remove_context()"
   ]
  },
  {
   "cell_type": "markdown",
   "metadata": {},
   "source": [
    "![Slide](images/Diapositiva13.PNG)\n",
    "\n",
    "![Slide](images/Diapositiva14.PNG)"
   ]
  },
  {
   "cell_type": "markdown",
   "metadata": {},
   "source": [
    "Copyright 2023. Elaborado por Luis Cajachahua bajo licencia MIT"
   ]
  }
 ],
 "metadata": {
  "colab": {
   "collapsed_sections": [],
   "name": "Copia de S03_Modelamiento_EntrenamientoyValidacion.ipynb",
   "provenance": []
  },
  "kernelspec": {
   "display_name": "Python 3 (ipykernel)",
   "language": "python",
   "name": "python3"
  },
  "language_info": {
   "codemirror_mode": {
    "name": "ipython",
    "version": 3
   },
   "file_extension": ".py",
   "mimetype": "text/x-python",
   "name": "python",
   "nbconvert_exporter": "python",
   "pygments_lexer": "ipython3",
   "version": "3.10.9"
  },
  "toc": {
   "base_numbering": 1,
   "nav_menu": {},
   "number_sections": true,
   "sideBar": true,
   "skip_h1_title": false,
   "title_cell": "Table of Contents",
   "title_sidebar": "Contents",
   "toc_cell": false,
   "toc_position": {
    "height": "calc(100% - 180px)",
    "left": "10px",
    "top": "150px",
    "width": "165px"
   },
   "toc_section_display": true,
   "toc_window_display": false
  },
  "varInspector": {
   "cols": {
    "lenName": 16,
    "lenType": 16,
    "lenVar": 40
   },
   "kernels_config": {
    "python": {
     "delete_cmd_postfix": "",
     "delete_cmd_prefix": "del ",
     "library": "var_list.py",
     "varRefreshCmd": "print(var_dic_list())"
    },
    "r": {
     "delete_cmd_postfix": ") ",
     "delete_cmd_prefix": "rm(",
     "library": "var_list.r",
     "varRefreshCmd": "cat(var_dic_list()) "
    }
   },
   "types_to_exclude": [
    "module",
    "function",
    "builtin_function_or_method",
    "instance",
    "_Feature"
   ],
   "window_display": false
  }
 },
 "nbformat": 4,
 "nbformat_minor": 4
}
