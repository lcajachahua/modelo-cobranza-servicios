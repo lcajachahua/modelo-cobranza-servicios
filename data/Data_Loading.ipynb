{
 "cells": [
  {
   "cell_type": "markdown",
   "id": "3bac3924-4f04-46d8-9626-68b2e9966e96",
   "metadata": {},
   "source": [
    "# Data Loading\n",
    "## Creamos las tablas y cargamos los datos necesarios para implementar ModelOps"
   ]
  },
  {
   "cell_type": "code",
   "execution_count": null,
   "id": "a1ab2efd-d316-48a3-a3e8-66b64b4f985f",
   "metadata": {},
   "outputs": [],
   "source": [
    "%connect local"
   ]
  },
  {
   "cell_type": "code",
   "execution_count": null,
   "id": "3cae7b33-d674-495a-b95b-5dd7ddd22753",
   "metadata": {},
   "outputs": [],
   "source": [
    "CREATE MULTISET TABLE matriz_modelo \n",
    "    (\n",
    "    PARTY_ID INTEGER,\n",
    "    INCOME INTEGER,\n",
    "    SEX SMALLINT,\n",
    "    EDUCATION SMALLINT,\n",
    "    MARRIAGE SMALLINT,\n",
    "    AGE SMALLINT,\n",
    "    PAY_1 SMALLINT,\n",
    "    PAY_2 SMALLINT,\n",
    "    PAY_3 SMALLINT,\n",
    "    PAY_4 SMALLINT,\n",
    "    PAY_5 SMALLINT,\n",
    "    PAY_6 SMALLINT,\n",
    "    BILL_AMT1 FLOAT,\n",
    "    BILL_AMT2 FLOAT,\n",
    "    BILL_AMT3 FLOAT,\n",
    "    BILL_AMT4 FLOAT,\n",
    "    BILL_AMT5 FLOAT,\n",
    "    BILL_AMT6 FLOAT,\n",
    "    PAY_AMT1 FLOAT,\n",
    "    PAY_AMT2 FLOAT,\n",
    "    PAY_AMT3 FLOAT,\n",
    "    PAY_AMT4 FLOAT,\n",
    "    PAY_AMT5 FLOAT,\n",
    "    PAY_AMT6 FLOAT,\n",
    "    EDUCATION_1 SMALLINT,\n",
    "    EDUCATION_2 SMALLINT,\n",
    "    EDUCATION_3 SMALLINT,\n",
    "    MARRIAGE_1 SMALLINT,\n",
    "    MARRIAGE_2 SMALLINT,\n",
    "    LOG_BILL_AMT1 FLOAT,\n",
    "    LOG_BILL_AMT2 FLOAT,\n",
    "    LOG_BILL_AMT3 FLOAT,\n",
    "    LOG_BILL_AMT4 FLOAT,\n",
    "    LOG_BILL_AMT5 FLOAT,\n",
    "    LOG_BILL_AMT6 FLOAT,\n",
    "    LOG_PAY_AMT1 FLOAT,\n",
    "    LOG_PAY_AMT2 FLOAT,\n",
    "    LOG_PAY_AMT3 FLOAT,\n",
    "    LOG_PAY_AMT4 FLOAT,\n",
    "    LOG_PAY_AMT5 FLOAT,\n",
    "    LOG_PAY_AMT6 FLOAT,\n",
    "    SUM_PAY_TOT SMALLINT,\n",
    "    STD_PAY_TOT FLOAT,\n",
    "    SUM_PAY_REC SMALLINT,\n",
    "    CANT_PAY_MAY0 SMALLINT,\n",
    "    AVG_LBILL_TOT FLOAT,\n",
    "    STD_LBILL_TOT FLOAT,\n",
    "    CV_LBILL_TOT FLOAT,\n",
    "    SUM_LBILL_REC FLOAT,\n",
    "    CANT_LBILL_MAY0 SMALLINT,\n",
    "    AVG_LPAY_TOT FLOAT,\n",
    "    STD_LPAY_TOT FLOAT,\n",
    "    CV_LPAY_TOT FLOAT,\n",
    "    SUM_LPAY_REC FLOAT,\n",
    "    CANT_LPAY_MAY0 SMALLINT,\n",
    "    RATE_PAY_BILL1 FLOAT,\n",
    "    RATE_PAY_BILL2 FLOAT,\n",
    "    TAR SMALLINT)\n",
    "    PRIMARY INDEX (PARTY_ID);"
   ]
  },
  {
   "cell_type": "code",
   "execution_count": null,
   "id": "d9755c49-163e-4803-8392-9d10a1e79284",
   "metadata": {},
   "outputs": [],
   "source": [
    "%dataload DATABASE=demo_user, TABLE=matriz_modelo, skiprows=1, FILEPATH=modelo-cobranza-servicios/data/credit_train.csv"
   ]
  },
  {
   "cell_type": "code",
   "execution_count": null,
   "id": "d8be9819-5c01-4b8c-9c33-1ec3aa641170",
   "metadata": {},
   "outputs": [],
   "source": [
    "CREATE MULTISET TABLE matriz_score \n",
    "    (\n",
    "    PARTY_ID INTEGER,\n",
    "    INCOME INTEGER,\n",
    "    SEX SMALLINT,\n",
    "    EDUCATION SMALLINT,\n",
    "    MARRIAGE SMALLINT,\n",
    "    AGE SMALLINT,\n",
    "    PAY_1 SMALLINT,\n",
    "    PAY_2 SMALLINT,\n",
    "    PAY_3 SMALLINT,\n",
    "    PAY_4 SMALLINT,\n",
    "    PAY_5 SMALLINT,\n",
    "    PAY_6 SMALLINT,\n",
    "    BILL_AMT1 FLOAT,\n",
    "    BILL_AMT2 FLOAT,\n",
    "    BILL_AMT3 FLOAT,\n",
    "    BILL_AMT4 FLOAT,\n",
    "    BILL_AMT5 FLOAT,\n",
    "    BILL_AMT6 FLOAT,\n",
    "    PAY_AMT1 FLOAT,\n",
    "    PAY_AMT2 FLOAT,\n",
    "    PAY_AMT3 FLOAT,\n",
    "    PAY_AMT4 FLOAT,\n",
    "    PAY_AMT5 FLOAT,\n",
    "    PAY_AMT6 FLOAT,\n",
    "    EDUCATION_1 SMALLINT,\n",
    "    EDUCATION_2 SMALLINT,\n",
    "    EDUCATION_3 SMALLINT,\n",
    "    MARRIAGE_1 SMALLINT,\n",
    "    MARRIAGE_2 SMALLINT,\n",
    "    LOG_BILL_AMT1 FLOAT,\n",
    "    LOG_BILL_AMT2 FLOAT,\n",
    "    LOG_BILL_AMT3 FLOAT,\n",
    "    LOG_BILL_AMT4 FLOAT,\n",
    "    LOG_BILL_AMT5 FLOAT,\n",
    "    LOG_BILL_AMT6 FLOAT,\n",
    "    LOG_PAY_AMT1 FLOAT,\n",
    "    LOG_PAY_AMT2 FLOAT,\n",
    "    LOG_PAY_AMT3 FLOAT,\n",
    "    LOG_PAY_AMT4 FLOAT,\n",
    "    LOG_PAY_AMT5 FLOAT,\n",
    "    LOG_PAY_AMT6 FLOAT,\n",
    "    SUM_PAY_TOT SMALLINT,\n",
    "    STD_PAY_TOT FLOAT,\n",
    "    SUM_PAY_REC SMALLINT,\n",
    "    CANT_PAY_MAY0 SMALLINT,\n",
    "    AVG_LBILL_TOT FLOAT,\n",
    "    STD_LBILL_TOT FLOAT,\n",
    "    CV_LBILL_TOT FLOAT,\n",
    "    SUM_LBILL_REC FLOAT,\n",
    "    CANT_LBILL_MAY0 SMALLINT,\n",
    "    AVG_LPAY_TOT FLOAT,\n",
    "    STD_LPAY_TOT FLOAT,\n",
    "    CV_LPAY_TOT FLOAT,\n",
    "    SUM_LPAY_REC FLOAT,\n",
    "    CANT_LPAY_MAY0 SMALLINT,\n",
    "    RATE_PAY_BILL1 FLOAT,\n",
    "    RATE_PAY_BILL2 FLOAT,\n",
    "    TAR SMALLINT)\n",
    "    PRIMARY INDEX (PARTY_ID);"
   ]
  },
  {
   "cell_type": "code",
   "execution_count": null,
   "id": "f3e34809-bb98-4c6c-b2cf-b21e63b3a71f",
   "metadata": {},
   "outputs": [],
   "source": [
    "%dataload DATABASE=demo_user, TABLE=matriz_score, skiprows=1, FILEPATH=modelo-cobranza-servicios/data/credit_new.csv"
   ]
  },
  {
   "cell_type": "code",
   "execution_count": null,
   "id": "7574a9ee-456c-47c2-8026-9476abc6295a",
   "metadata": {},
   "outputs": [],
   "source": [
    "CREATE SET TABLE matriz_modelo_metadata (\n",
    "    column_name VARCHAR(1024),\n",
    "    column_type VARCHAR(1024),\n",
    "    stats VARCHAR(1024),\n",
    "    update_ts VARCHAR(1024))\n",
    "    PRIMARY INDEX ( column_name );"
   ]
  },
  {
   "cell_type": "code",
   "execution_count": null,
   "id": "8e3289f5-b99f-4f70-9ffc-3ed3c1c12f90",
   "metadata": {},
   "outputs": [],
   "source": [
    "%dataload DATABASE=demo_user, TABLE=churn_feature_metadata, skiprows=1, FILEPATH=modelo-cobranza-servicios/data/matriz_modelo_metadata.csv"
   ]
  },
  {
   "cell_type": "code",
   "execution_count": null,
   "id": "dd5ce8bf-bd6b-403f-8a25-9059f713aa06",
   "metadata": {},
   "outputs": [],
   "source": [
    "CREATE MULTISET TABLE matriz_modelo_predictions (\n",
    "    job_id VARCHAR(255),\n",
    "    PARTY_ID VARCHAR(9),\n",
    "    TAR INTEGER,\n",
    "    json_report CLOB(1048544000))\n",
    "    PRIMARY INDEX ( job_id );"
   ]
  },
  {
   "cell_type": "markdown",
   "id": "7d782e76-c479-43af-b273-212be71f9111",
   "metadata": {},
   "source": [
    "# Limpiando la BD (Opcional)\n",
    "Cuando finalice el proceso, se pueden eliminar las tablas creadas"
   ]
  },
  {
   "cell_type": "code",
   "execution_count": null,
   "id": "29b6acc9-c2ca-4f24-8781-b89a164f56ee",
   "metadata": {},
   "outputs": [],
   "source": [
    "DROP TABLE matriz_modelo;"
   ]
  },
  {
   "cell_type": "code",
   "execution_count": null,
   "id": "015a0af4-5750-49ad-bc83-83212e216fa7",
   "metadata": {},
   "outputs": [],
   "source": [
    "DROP TABLE matriz_score;"
   ]
  },
  {
   "cell_type": "code",
   "execution_count": null,
   "id": "d513c40e-8bd5-414e-84da-f1e09b4f44bf",
   "metadata": {},
   "outputs": [],
   "source": [
    "DROP TABLE matriz_modelo_metadata;"
   ]
  },
  {
   "cell_type": "code",
   "execution_count": null,
   "id": "f8f6e751-10d2-437c-bd8f-c79e4b974f5c",
   "metadata": {},
   "outputs": [],
   "source": [
    "DROP TABLE matriz_modelo_predictions;"
   ]
  },
  {
   "cell_type": "markdown",
   "id": "04837c82-ca31-4a7a-b4df-e1318163abff",
   "metadata": {},
   "source": [
    "Copyright 2023. Elaborado por Luis Cajachahua bajo licencia MIT"
   ]
  }
 ],
 "metadata": {
  "kernelspec": {
   "display_name": "Teradata SQL",
   "language": "Teradata SQL",
   "name": "teradatasql"
  },
  "language_info": {
   "codemirror_mode": "Teradata SQL",
   "file_extension": ".tdrs",
   "mimetype": "application/vnd.teradata.resultset",
   "name": "Teradata SQL",
   "nbconvert_exporter": "",
   "pygments_lexer": "",
   "version": "16.20"
  }
 },
 "nbformat": 4,
 "nbformat_minor": 5
}
