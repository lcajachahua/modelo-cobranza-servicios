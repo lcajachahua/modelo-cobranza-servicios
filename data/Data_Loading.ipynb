{
 "cells": [
  {
   "cell_type": "markdown",
   "id": "3bac3924-4f04-46d8-9626-68b2e9966e96",
   "metadata": {},
   "source": [
    "# Data Loading\n",
    "## Creamos las tablas y cargamos los datos necesarios para implementar ModelOps"
   ]
  },
  {
   "cell_type": "code",
   "execution_count": null,
   "id": "f07049a2-69c8-4fe1-ac1f-69802886c006",
   "metadata": {},
   "outputs": [],
   "source": [
    "%connect local"
   ]
  },
  {
   "cell_type": "code",
   "execution_count": null,
   "id": "3cae7b33-d674-495a-b95b-5dd7ddd22753",
   "metadata": {},
   "outputs": [],
   "source": [
    "create multiset table matriz_modelo \n",
    "    (\n",
    "    party_id integer,\n",
    "    income integer,\n",
    "    sex smallint,\n",
    "    education smallint,\n",
    "    marriage smallint,\n",
    "    age smallint,\n",
    "    pay_1 smallint,\n",
    "    pay_2 smallint,\n",
    "    pay_3 smallint,\n",
    "    pay_4 smallint,\n",
    "    pay_5 smallint,\n",
    "    pay_6 smallint,\n",
    "    bill_amt1 float,\n",
    "    bill_amt2 float,\n",
    "    bill_amt3 float,\n",
    "    bill_amt4 float,\n",
    "    bill_amt5 float,\n",
    "    bill_amt6 float,\n",
    "    pay_amt1 float,\n",
    "    pay_amt2 float,\n",
    "    pay_amt3 float,\n",
    "    pay_amt4 float,\n",
    "    pay_amt5 float,\n",
    "    pay_amt6 float,\n",
    "    education_1 smallint,\n",
    "    education_2 smallint,\n",
    "    education_3 smallint,\n",
    "    marriage_1 smallint,\n",
    "    marriage_2 smallint,\n",
    "    log_bill_amt1 float,\n",
    "    log_bill_amt2 float,\n",
    "    log_bill_amt3 float,\n",
    "    log_bill_amt4 float,\n",
    "    log_bill_amt5 float,\n",
    "    log_bill_amt6 float,\n",
    "    log_pay_amt1 float,\n",
    "    log_pay_amt2 float,\n",
    "    log_pay_amt3 float,\n",
    "    log_pay_amt4 float,\n",
    "    log_pay_amt5 float,\n",
    "    log_pay_amt6 float,\n",
    "    sum_pay_tot smallint,\n",
    "    std_pay_tot float,\n",
    "    sum_pay_rec smallint,\n",
    "    cant_pay_may0 smallint,\n",
    "    avg_lbill_tot float,\n",
    "    std_lbill_tot float,\n",
    "    cv_lbill_tot float,\n",
    "    sum_lbill_rec float,\n",
    "    cant_lbill_may0 smallint,\n",
    "    avg_lpay_tot float,\n",
    "    std_lpay_tot float,\n",
    "    cv_lpay_tot float,\n",
    "    sum_lpay_rec float,\n",
    "    cant_lpay_may0 smallint,\n",
    "    rate_pay_bill1 float,\n",
    "    rate_pay_bill2 float,\n",
    "    tar smallint)\n",
    "    primary index (party_id);"
   ]
  },
  {
   "cell_type": "code",
   "execution_count": null,
   "id": "d9755c49-163e-4803-8392-9d10a1e79284",
   "metadata": {},
   "outputs": [],
   "source": [
    "%dataload DATABASE=demo_user, TABLE=matriz_modelo, skiprows=1, FILEPATH=modelo-cobranza-servicios/data/credit_train.csv"
   ]
  },
  {
   "cell_type": "code",
   "execution_count": null,
   "id": "d8be9819-5c01-4b8c-9c33-1ec3aa641170",
   "metadata": {},
   "outputs": [],
   "source": [
    "create multiset table matriz_score \n",
    "    (\n",
    "    party_id integer,\n",
    "    income integer,\n",
    "    sex smallint,\n",
    "    education smallint,\n",
    "    marriage smallint,\n",
    "    age smallint,\n",
    "    pay_1 smallint,\n",
    "    pay_2 smallint,\n",
    "    pay_3 smallint,\n",
    "    pay_4 smallint,\n",
    "    pay_5 smallint,\n",
    "    pay_6 smallint,\n",
    "    bill_amt1 float,\n",
    "    bill_amt2 float,\n",
    "    bill_amt3 float,\n",
    "    bill_amt4 float,\n",
    "    bill_amt5 float,\n",
    "    bill_amt6 float,\n",
    "    pay_amt1 float,\n",
    "    pay_amt2 float,\n",
    "    pay_amt3 float,\n",
    "    pay_amt4 float,\n",
    "    pay_amt5 float,\n",
    "    pay_amt6 float,\n",
    "    education_1 smallint,\n",
    "    education_2 smallint,\n",
    "    education_3 smallint,\n",
    "    marriage_1 smallint,\n",
    "    marriage_2 smallint,\n",
    "    log_bill_amt1 float,\n",
    "    log_bill_amt2 float,\n",
    "    log_bill_amt3 float,\n",
    "    log_bill_amt4 float,\n",
    "    log_bill_amt5 float,\n",
    "    log_bill_amt6 float,\n",
    "    log_pay_amt1 float,\n",
    "    log_pay_amt2 float,\n",
    "    log_pay_amt3 float,\n",
    "    log_pay_amt4 float,\n",
    "    log_pay_amt5 float,\n",
    "    log_pay_amt6 float,\n",
    "    sum_pay_tot smallint,\n",
    "    std_pay_tot float,\n",
    "    sum_pay_rec smallint,\n",
    "    cant_pay_may0 smallint,\n",
    "    avg_lbill_tot float,\n",
    "    std_lbill_tot float,\n",
    "    cv_lbill_tot float,\n",
    "    sum_lbill_rec float,\n",
    "    cant_lbill_may0 smallint,\n",
    "    avg_lpay_tot float,\n",
    "    std_lpay_tot float,\n",
    "    cv_lpay_tot float,\n",
    "    sum_lpay_rec float,\n",
    "    cant_lpay_may0 smallint,\n",
    "    rate_pay_bill1 float,\n",
    "    rate_pay_bill2 float,\n",
    "    tar smallint)\n",
    "    primary index (party_id);"
   ]
  },
  {
   "cell_type": "code",
   "execution_count": null,
   "id": "f3e34809-bb98-4c6c-b2cf-b21e63b3a71f",
   "metadata": {},
   "outputs": [],
   "source": [
    "%dataload DATABASE=demo_user, TABLE=matriz_score, skiprows=1, FILEPATH=modelo-cobranza-servicios/data/credit_new.csv"
   ]
  },
  {
   "cell_type": "code",
   "execution_count": null,
   "id": "7574a9ee-456c-47c2-8026-9476abc6295a",
   "metadata": {},
   "outputs": [],
   "source": [
    "CREATE SET TABLE matriz_modelo_metadata (\n",
    "    column_name VARCHAR(1024),\n",
    "    column_type VARCHAR(1024),\n",
    "    stats VARCHAR(1024),\n",
    "    update_ts VARCHAR(1024))\n",
    "    PRIMARY INDEX ( column_name );"
   ]
  },
  {
   "cell_type": "code",
   "execution_count": null,
   "id": "8e3289f5-b99f-4f70-9ffc-3ed3c1c12f90",
   "metadata": {},
   "outputs": [],
   "source": [
    "%dataload DATABASE=demo_user, TABLE=matriz_modelo_metadata, skiprows=1, FILEPATH=modelo-cobranza-servicios/data/matriz_modelo_metadata.csv"
   ]
  },
  {
   "cell_type": "code",
   "execution_count": null,
   "id": "dd5ce8bf-bd6b-403f-8a25-9059f713aa06",
   "metadata": {},
   "outputs": [],
   "source": [
    "CREATE MULTISET TABLE matriz_modelo_predictions (\n",
    "    job_id VARCHAR(255),\n",
    "    party_id VARCHAR(9),\n",
    "    tar INTEGER,\n",
    "    json_report CLOB(1048544000))\n",
    "    PRIMARY INDEX ( job_id );"
   ]
  },
  {
   "cell_type": "markdown",
   "id": "7d782e76-c479-43af-b273-212be71f9111",
   "metadata": {},
   "source": [
    "# Limpiando la BD (Opcional)\n",
    "Cuando finalice el proceso, se pueden eliminar las tablas creadas"
   ]
  },
  {
   "cell_type": "code",
   "execution_count": null,
   "id": "29b6acc9-c2ca-4f24-8781-b89a164f56ee",
   "metadata": {},
   "outputs": [],
   "source": [
    "DROP TABLE matriz_modelo;"
   ]
  },
  {
   "cell_type": "code",
   "execution_count": null,
   "id": "015a0af4-5750-49ad-bc83-83212e216fa7",
   "metadata": {},
   "outputs": [],
   "source": [
    "DROP TABLE matriz_score;"
   ]
  },
  {
   "cell_type": "code",
   "execution_count": null,
   "id": "d513c40e-8bd5-414e-84da-f1e09b4f44bf",
   "metadata": {},
   "outputs": [],
   "source": [
    "DROP TABLE matriz_modelo_metadata;"
   ]
  },
  {
   "cell_type": "code",
   "execution_count": null,
   "id": "f8f6e751-10d2-437c-bd8f-c79e4b974f5c",
   "metadata": {},
   "outputs": [],
   "source": [
    "DROP TABLE matriz_modelo_predictions;"
   ]
  },
  {
   "cell_type": "markdown",
   "id": "04837c82-ca31-4a7a-b4df-e1318163abff",
   "metadata": {},
   "source": [
    "Copyright 2023. Elaborado por Luis Cajachahua bajo licencia MIT"
   ]
  }
 ],
 "metadata": {
  "kernelspec": {
   "display_name": "Teradata SQL",
   "language": "Teradata SQL",
   "name": "teradatasql"
  },
  "language_info": {
   "codemirror_mode": "Teradata SQL",
   "file_extension": ".tdrs",
   "mimetype": "application/vnd.teradata.resultset",
   "name": "Teradata SQL",
   "nbconvert_exporter": "",
   "pygments_lexer": "",
   "version": "16.20"
  }
 },
 "nbformat": 4,
 "nbformat_minor": 5
}
